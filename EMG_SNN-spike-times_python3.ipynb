{
 "cells": [
  {
   "cell_type": "code",
   "execution_count": 24,
   "metadata": {
    "colab": {},
    "colab_type": "code",
    "id": "pR2F9olH20WV"
   },
   "outputs": [],
   "source": [
    "# This script only saves the spike times for spinnaker implementation\n",
    "\n",
    "import os\n",
    "import numpy as np\n",
    "import matplotlib.pyplot as plt\n",
    "import scipy as sc\n",
    "from scipy.signal import butter, lfilter, welch, square  #for signal filtering"
   ]
  },
  {
   "cell_type": "code",
   "execution_count": 25,
   "metadata": {
    "colab": {},
    "colab_type": "code",
    "id": "dNH5TuVR747t"
   },
   "outputs": [],
   "source": [
    "# general stuff\n",
    "fs = 200  # sampling frequency of MYO\n",
    "VERBOSE = True\n",
    "data_dir = '/Users/Anonymous/Desktop/EMG/Roshambo/'\n",
    "classes = ['rock', 'paper', 'scissor']\n",
    "classes_dict = {'rock': 0, 'paper': 1, 'scissor': 2}\n",
    "classes_inv = {v: k for k, v in classes_dict.items()}"
   ]
  },
  {
   "cell_type": "code",
   "execution_count": 26,
   "metadata": {
    "colab": {},
    "colab_type": "code",
    "id": "yntnlfz75B__"
   },
   "outputs": [],
   "source": [
    "class Person(object):\n",
    "    def __init__(self, name, emg, ann, classes= ['rock', 'paper', 'scissor']):\n",
    "        self.name = name\n",
    "        self.emg = emg\n",
    "        self.ann = ann\n",
    "        self.trials = {c: [] for c in classes}\n",
    "        self.begs = {c: [] for c in classes}\n",
    "        self.ends = {c: [] for c in classes}\n",
    "        self.x = {c: [] for c in classes}\n",
    "        self.y = {c: [] for c in classes}\n",
    "        self.ts = {c: [] for c in classes}\n",
    "        self.pol = {c: [] for c in classes}\n",
    "        self.emg_spks = {c: [] for c in classes}\n",
    "        self.spk_trials = {c: [] for c in classes}  "
   ]
  },
  {
   "cell_type": "code",
   "execution_count": 27,
   "metadata": {
    "colab": {},
    "colab_type": "code",
    "id": "MhY73Sml2dm0"
   },
   "outputs": [],
   "source": [
    "subjects = {}\n",
    "names = sorted([name for name in os.listdir(data_dir) if \"emg\" in name])"
   ]
  },
  {
   "cell_type": "code",
   "execution_count": 28,
   "metadata": {
    "colab": {
     "base_uri": "https://localhost:8080/",
     "height": 527
    },
    "colab_type": "code",
    "id": "JfHiEKT32s2B",
    "outputId": "3b9d31ee-c329-48e4-8a3f-9c892bb1ddb4"
   },
   "outputs": [
    {
     "name": "stdout",
     "output_type": "stream",
     "text": [
      "Loaded subject01_session01: EMG = [(8962, 8)] // ANN = [8962]\n",
      "Loaded subject01_session02: EMG = [(8933, 8)] // ANN = [8933]\n",
      "Loaded subject01_session03: EMG = [(8989, 8)] // ANN = [8989]\n",
      "Loaded subject02_session01: EMG = [(8990, 8)] // ANN = [8990]\n",
      "Loaded subject02_session02: EMG = [(8985, 8)] // ANN = [8985]\n",
      "Loaded subject02_session03: EMG = [(8975, 8)] // ANN = [8975]\n",
      "Loaded subject03_session01: EMG = [(8976, 8)] // ANN = [8976]\n",
      "Loaded subject03_session02: EMG = [(8949, 8)] // ANN = [8949]\n",
      "Loaded subject03_session03: EMG = [(8981, 8)] // ANN = [8981]\n",
      "Loaded subject04_session01: EMG = [(8953, 8)] // ANN = [8953]\n",
      "Loaded subject04_session02: EMG = [(8943, 8)] // ANN = [8943]\n",
      "Loaded subject04_session03: EMG = [(8953, 8)] // ANN = [8953]\n",
      "Loaded subject05_session01: EMG = [(9185, 8)] // ANN = [9185]\n",
      "Loaded subject05_session02: EMG = [(9146, 8)] // ANN = [9146]\n",
      "Loaded subject05_session03: EMG = [(9150, 8)] // ANN = [9150]\n",
      "Loaded subject06_session01: EMG = [(8984, 8)] // ANN = [8984]\n",
      "Loaded subject06_session02: EMG = [(8989, 8)] // ANN = [8989]\n",
      "Loaded subject06_session03: EMG = [(8989, 8)] // ANN = [8989]\n",
      "Loaded subject07_session01: EMG = [(8961, 8)] // ANN = [8961]\n",
      "Loaded subject07_session02: EMG = [(8989, 8)] // ANN = [8989]\n",
      "Loaded subject07_session03: EMG = [(8988, 8)] // ANN = [8988]\n",
      "Loaded subject08_session01: EMG = [(8948, 8)] // ANN = [8948]\n",
      "Loaded subject08_session02: EMG = [(8921, 8)] // ANN = [8921]\n",
      "Loaded subject08_session03: EMG = [(8954, 8)] // ANN = [8954]\n",
      "Loaded subject09_session01: EMG = [(9163, 8)] // ANN = [9163]\n",
      "Loaded subject09_session02: EMG = [(9149, 8)] // ANN = [9149]\n",
      "Loaded subject09_session03: EMG = [(9150, 8)] // ANN = [9150]\n",
      "Loaded subject10_session01: EMG = [(8983, 8)] // ANN = [8983]\n",
      "Loaded subject10_session02: EMG = [(8951, 8)] // ANN = [8951]\n",
      "Loaded subject10_session03: EMG = [(8988, 8)] // ANN = [8988]\n"
     ]
    }
   ],
   "source": [
    "for name in names:\n",
    "    _emg = np.load(data_dir + '{}'.format(name)).astype('float32')\n",
    "    _ann = np.concatenate([np.array(['none']), np.load(data_dir + '{}'.format(name.replace(\"emg\",\"ann\")))[:-1]])\n",
    "    subjects[\"_\".join(name.split(\"_\")[:2])] = Person(name.split(\"_\")[0], _emg, _ann, classes=classes)\n",
    "    print(\"Loaded {}: EMG = [{}] // ANN = [{}]\".format(\"_\".join(name.split(\"_\")[:2]), _emg.shape, len(_ann)))\n",
    "   "
   ]
  },
  {
   "cell_type": "code",
   "execution_count": 29,
   "metadata": {
    "colab": {
     "base_uri": "https://localhost:8080/",
     "height": 34
    },
    "colab_type": "code",
    "id": "HruHkF79hB-Z",
    "outputId": "526e7f65-a435-4cb3-cd65-672ecc7616ac"
   },
   "outputs": [
    {
     "name": "stdout",
     "output_type": "stream",
     "text": [
      "Done sorting trials!\n"
     ]
    }
   ],
   "source": [
    "for name, data in subjects.items():\n",
    "    for _class in classes:\n",
    "        _annotation = np.float32(data.ann == _class)\n",
    "        derivative = np.diff(_annotation)/1.0\n",
    "        begins = np.where(derivative == 1)[0]\n",
    "        ends = np.where(derivative == -1)[0]\n",
    "        for b, e in zip(begins, ends):\n",
    "            _trials = data.emg[b:e]\n",
    "            data.trials[_class].append(_trials / np.std(_trials))\n",
    "            data.begs[_class].append(b)\n",
    "            data.ends[_class].append(e)\n",
    "print(\"Done sorting trials!\")\n"
   ]
  },
  {
   "cell_type": "code",
   "execution_count": 30,
   "metadata": {
    "colab": {
     "base_uri": "https://localhost:8080/",
     "height": 34
    },
    "colab_type": "code",
    "id": "jXkAd8Jo7Pct",
    "outputId": "292a0382-4487-484d-f207-7d697c3cf679"
   },
   "outputs": [
    {
     "name": "stdout",
     "output_type": "stream",
     "text": [
      "All good!\n"
     ]
    }
   ],
   "source": [
    "# check that we get 5 trials per subject per gesture\n",
    "for sub_name, sub_data in subjects.items():\n",
    "    for _class, trials in sub_data.trials.items():\n",
    "        assert (len(trials) == 5), \"Something wrong with the number of trials!\"\n",
    "print(\"All good!\")"
   ]
  },
  {
   "cell_type": "code",
   "execution_count": 31,
   "metadata": {
    "colab": {},
    "colab_type": "code",
    "id": "u_DDMmcMNmB2"
   },
   "outputs": [],
   "source": [
    "def signal_to_spike_refractory(interpfact, time, amplitude, thr_up, thr_dn, refractory_period):\n",
    "    actual_dc = 0\n",
    "    spike_up = []\n",
    "    spike_up = []\n",
    "    spike_dn = []\n",
    "    last_sample = interpfact * refractory_period\n",
    "\n",
    "    f = sc.interpolate.interp1d(time, amplitude)\n",
    "    rangeint = np.round((np.max(time) - np.min(time)) * interpfact)\n",
    "    xnew = np.linspace(np.min(time), np.max(time), num=int(rangeint), endpoint=True)\n",
    "    data = np.reshape([xnew, f(xnew)], (2, len(xnew))).T\n",
    "\n",
    "    i = 0\n",
    "    while i < (len(data) - int(last_sample)):\n",
    "        if ((actual_dc + thr_up) < data[i, 1]):\n",
    "            spike_up.append(data[i, 0])  # spike up\n",
    "            actual_dc = data[i, 1]  # update current dc value\n",
    "            i += int(refractory_period * interpfact)\n",
    "        elif ((actual_dc - thr_dn) > data[i, 1]):\n",
    "            spike_dn.append(data[i, 0])  # spike dn\n",
    "            actual_dc = data[i, 1]  # update curre\n",
    "            i += int(refractory_period * interpfact)\n",
    "        else:\n",
    "            i += 1\n",
    "\n",
    "    return spike_up, spike_dn\n"
   ]
  },
  {
   "cell_type": "code",
   "execution_count": 32,
   "metadata": {},
   "outputs": [],
   "source": [
    "def gen_spike_time(time_series_data):\n",
    "    spike_time_array_up = []\n",
    "    spike_time_array_dn = []\n",
    "    for channel_number in range((time_series_data.shape)[1]):\n",
    "        \n",
    "      raw_channel = time_series_data[:,channel_number]\n",
    "      _t = 1000*np.arange(0, raw_channel.shape[0] / fs, 1. / fs) \n",
    "        \n",
    "      spk_up, spk_dn = signal_to_spike_refractory(interpolation, _t, raw_channel, th_up, th_dn, refractory)\n",
    "      spike_time_array_up.append(spk_up)\n",
    "      spike_time_array_dn.append(spk_dn)\n",
    "      \n",
    "    return spike_time_array_up, spike_time_array_dn"
   ]
  },
  {
   "cell_type": "code",
   "execution_count": 33,
   "metadata": {
    "colab": {
     "base_uri": "https://localhost:8080/",
     "height": 136
    },
    "colab_type": "code",
    "id": "erTaBtyH7tOC",
    "outputId": "76e06908-bf68-419b-a3aa-1ffc1b5a6596"
   },
   "outputs": [
    {
     "name": "stdout",
     "output_type": "stream",
     "text": [
      "450\n",
      "450\n",
      "450\n",
      "[0, 1, 2]\n",
      "[1, 2, 3, 4, 5, 6, 7, 8, 9, 10]\n",
      "[1, 2, 3]\n",
      "[0, 1, 2, 3, 4]\n"
     ]
    },
    {
     "name": "stderr",
     "output_type": "stream",
     "text": [
      "<ipython-input-33-e7cebcef7df0>:16: VisibleDeprecationWarning: Creating an ndarray from ragged nested sequences (which is a list-or-tuple of lists-or-tuples-or ndarrays with different lengths or shapes) is deprecated. If you meant to do this, you must specify 'dtype=object' when creating the ndarray\n",
      "  X_EMG = np.array(X_EMG)\n"
     ]
    }
   ],
   "source": [
    "X_EMG = []\n",
    "Y_EMG = []\n",
    "SUB_EMG = []\n",
    "SES_EMG = []\n",
    "TRI_EMG = []\n",
    "\n",
    "for name, data in subjects.items():\n",
    "    for gesture in classes:\n",
    "        for trial in range(5):\n",
    "            X_EMG.append(data.trials[gesture][trial])\n",
    "            Y_EMG.append(classes_dict[gesture])\n",
    "            SUB_EMG.append(int(name[7:9]))\n",
    "            SES_EMG.append(int(name[17:19]))\n",
    "            TRI_EMG.append(trial)\n",
    "\n",
    "X_EMG = np.array(X_EMG)\n",
    "# X_EMG_SPIKE = np.array(X_EMG_SPIKE)\n",
    "Y_EMG = np.array(Y_EMG)\n",
    "SUB_EMG = np.array(SUB_EMG)\n",
    "SES_EMG = np.array(SES_EMG)\n",
    "TRI_EMG = np.array(TRI_EMG)\n",
    "X_EMG_uniform = np.ones((450,400,8))\n",
    "for i in range(len(X_EMG)) :\n",
    "  trial_length = X_EMG[i].shape[0]\n",
    "  if (trial_length > 400): \n",
    "    X_EMG_uniform[i] = X_EMG[i][0:400]\n",
    "  elif (trial_length < 400) : \n",
    "    short = 400 -trial_length\n",
    "    pad = np.zeros((short,8))\n",
    "    X_EMG_uniform[i] = np.append(X_EMG[i],pad, axis=0)\n",
    "  else : \n",
    "    X_EMG_uniform[i] = X_EMG[i]\n",
    "print(len(X_EMG))\n",
    "print(len(X_EMG_uniform))\n",
    "print(len(Y_EMG))\n",
    "print(list(set(Y_EMG)))\n",
    "print(list(set(SUB_EMG)))\n",
    "print(list(set(SES_EMG)))\n",
    "print(list(set(TRI_EMG)))\n",
    "\n"
   ]
  },
  {
   "cell_type": "code",
   "execution_count": 34,
   "metadata": {},
   "outputs": [],
   "source": [
    "X_EMG_Train = []\n",
    "Y_EMG_Train = []\n",
    "X_EMG_Test = []\n",
    "Y_EMG_Test = []\n",
    "for i in range(450) : \n",
    "    if (SES_EMG[i]) == 3 :\n",
    "        X_EMG_Test.append(X_EMG_uniform[i])\n",
    "        Y_EMG_Test.append(Y_EMG[i])\n",
    "    else : \n",
    "        X_EMG_Train.append(X_EMG_uniform[i])\n",
    "        Y_EMG_Train.append(Y_EMG[i])\n",
    "        "
   ]
  },
  {
   "cell_type": "code",
   "execution_count": 35,
   "metadata": {
    "colab": {},
    "colab_type": "code",
    "id": "MGA2XJiGTIkU"
   },
   "outputs": [],
   "source": [
    "interpolation = 5\n",
    "refractory = 0.00\n",
    "th_up = th_dn = 0.4\n",
    "n_ch = 8\n",
    "fs = 200"
   ]
  },
  {
   "cell_type": "code",
   "execution_count": 36,
   "metadata": {},
   "outputs": [],
   "source": [
    "spike_times_train_up = []\n",
    "spike_times_train_dn = []\n",
    "for i in range(len(X_EMG_Train)):\n",
    "    spk_up, spk_dn = gen_spike_time(X_EMG_Train[i])\n",
    "    spike_times_train_up.append(spk_up)\n",
    "    spike_times_train_dn.append(spk_dn)\n",
    "  # X_EMG_SPIKE = gen_X_spike(X_EMG[i])"
   ]
  },
  {
   "cell_type": "code",
   "execution_count": 37,
   "metadata": {},
   "outputs": [],
   "source": [
    "spike_times_test_up = []\n",
    "spike_times_test_dn = []\n",
    "for i in range(len(X_EMG_Test)):\n",
    "    spk_up, spk_dn = gen_spike_time(X_EMG_Test[i])\n",
    "    spike_times_test_up.append(spk_up)\n",
    "    spike_times_test_dn.append(spk_dn)\n",
    "  # X_EMG_SPIKE = gen_X_spike(X_EMG[i])"
   ]
  },
  {
   "cell_type": "code",
   "execution_count": 38,
   "metadata": {},
   "outputs": [
    {
     "data": {
      "text/plain": [
       "233"
      ]
     },
     "execution_count": 38,
     "metadata": {},
     "output_type": "execute_result"
    }
   ],
   "source": [
    "len(spike_times_test_up[1][1])"
   ]
  },
  {
   "cell_type": "code",
   "execution_count": 39,
   "metadata": {},
   "outputs": [],
   "source": [
    "def gen_spike_rate(spike_time_array):\n",
    "    \n",
    "    nb_trials = len(spike_time_array)\n",
    "    nb_electrodes = len(spike_time_array[1])\n",
    "    spike_sum = 0\n",
    "    for trial_number in range(nb_trials):\n",
    "        for channel_number in range(nb_electrodes):\n",
    "            spike_sum = spike_sum + len(spike_time_array[trial_number][channel_number])\n",
    "            time_max = 2\n",
    "    av_spike_sum = spike_sum/ (nb_trials*nb_electrodes)\n",
    "    spike_rate = av_spike_sum/time_max\n",
    "    return spike_rate"
   ]
  },
  {
   "cell_type": "code",
   "execution_count": 40,
   "metadata": {},
   "outputs": [
    {
     "name": "stdout",
     "output_type": "stream",
     "text": [
      "174.57916666666668\n",
      "174.57916666666668\n",
      "168.71416666666667\n",
      "168.71416666666667\n",
      "171.64666666666668\n"
     ]
    }
   ],
   "source": [
    "rate_up_test = gen_spike_rate(spike_times_test_up)\n",
    "rate_dn_test = gen_spike_rate(spike_times_test_up)\n",
    "rate_up_train = gen_spike_rate(spike_times_train_up)\n",
    "rate_dn_train = gen_spike_rate(spike_times_train_up)\n",
    "print(rate_up_test)\n",
    "print(rate_dn_test)\n",
    "print(rate_up_train)\n",
    "print(rate_dn_train)\n",
    "\n",
    "print((rate_up_test+rate_dn_test+rate_up_train+rate_dn_train) / 4)"
   ]
  },
  {
   "cell_type": "code",
   "execution_count": 41,
   "metadata": {},
   "outputs": [
    {
     "data": {
      "text/plain": [
       "880"
      ]
     },
     "execution_count": 41,
     "metadata": {},
     "output_type": "execute_result"
    }
   ],
   "source": [
    "len(spike_times_train_dn[1][6])"
   ]
  },
  {
   "cell_type": "code",
   "execution_count": 43,
   "metadata": {},
   "outputs": [],
   "source": [
    "\n",
    "spike_times_test_up = np.array(spike_times_test_up)\n",
    "spike_times_test_up = np.array(spike_times_test_up)\n",
    "spike_times_train_up = np.array(spike_times_train_up)\n",
    "spike_times_train_up = np.array(spike_times_train_up)"
   ]
  },
  {
   "cell_type": "code",
   "execution_count": 44,
   "metadata": {
    "colab": {},
    "colab_type": "code",
    "id": "BGApSx0LfqT9"
   },
   "outputs": [],
   "source": [
    "np.savez('/Users/Anonymous/Desktop/EMG/EMG_dataset_with_spike_time_python3.npz', Y_EMG_Train=Y_EMG_Train,Y_EMG_Test=Y_EMG_Test,spike_times_train_up = spike_times_train_up ,spike_times_train_dn = spike_times_train_dn,spike_times_test_up = spike_times_test_up ,spike_times_test_dn = spike_times_test_dn)"
   ]
  },
  {
   "cell_type": "code",
   "execution_count": null,
   "metadata": {},
   "outputs": [],
   "source": []
  }
 ],
 "metadata": {
  "colab": {
   "collapsed_sections": [],
   "name": "EMG-SNN.ipynb",
   "provenance": []
  },
  "kernelspec": {
   "display_name": "Python 3",
   "language": "python",
   "name": "python3"
  },
  "language_info": {
   "codemirror_mode": {
    "name": "ipython",
    "version": 3
   },
   "file_extension": ".py",
   "mimetype": "text/x-python",
   "name": "python",
   "nbconvert_exporter": "python",
   "pygments_lexer": "ipython3",
   "version": "3.8.4"
  }
 },
 "nbformat": 4,
 "nbformat_minor": 1
}
