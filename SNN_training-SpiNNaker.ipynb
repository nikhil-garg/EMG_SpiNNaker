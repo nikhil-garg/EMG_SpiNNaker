{
 "cells": [
  {
   "cell_type": "code",
   "execution_count": 38,
   "metadata": {},
   "outputs": [],
   "source": [
    "from pyNN.utility import get_simulator, init_logging, normalized_filename\n",
    "from pyNN.utility.plotting import Figure, Panel\n",
    "import numpy as np\n",
    "from pyNN.random import NumpyRNG, RandomDistribution\n",
    "from pyNN import space\n",
    "import neo\n",
    "from quantities import ms\n",
    "\n",
    "import nmpi\n",
    "\n",
    "c = nmpi.Client(\"nikhilgarg\")\n",
    "token = c.token\n",
    "new_client = nmpi.Client(\"nikhilgarg\", token=token)"
   ]
  },
  {
   "cell_type": "code",
   "execution_count": 39,
   "metadata": {},
   "outputs": [],
   "source": [
    "# new_client.my_collabs()\n",
    "# job_id = c.submit_job(source=\"/Users/Anonymous/Desktop/EMG/training.py\",\n",
    "#                       platform=nmpi.SPINNAKER,\n",
    "#                       collab_id=85686)\n",
    "# c.job_status(job_id)"
   ]
  },
  {
   "cell_type": "code",
   "execution_count": 40,
   "metadata": {},
   "outputs": [],
   "source": [
    "import pyNN.spiNNaker as sim"
   ]
  },
  {
   "cell_type": "code",
   "execution_count": 41,
   "metadata": {},
   "outputs": [],
   "source": [
    "seed = 764756387\n",
    "rng = NumpyRNG(seed=seed, parallel_safe=True)"
   ]
  },
  {
   "cell_type": "code",
   "execution_count": null,
   "metadata": {},
   "outputs": [],
   "source": []
  },
  {
   "cell_type": "code",
   "execution_count": 42,
   "metadata": {},
   "outputs": [],
   "source": [
    "filename = 'EMG_dataset_with_spike_time_python3.npz'"
   ]
  },
  {
   "cell_type": "code",
   "execution_count": 35,
   "metadata": {},
   "outputs": [],
   "source": [
    "data=np.load('EMG_dataset_with_spike_time_python3.npz',allow_pickle=True )"
   ]
  },
  {
   "cell_type": "code",
   "execution_count": 43,
   "metadata": {},
   "outputs": [
    {
     "data": {
      "text/plain": [
       "['X_EMG_Train',\n",
       " 'Y_EMG_Train',\n",
       " 'X_EMG_Test',\n",
       " 'Y_EMG_Test',\n",
       " 'spike_times_train_up',\n",
       " 'spike_times_train_dn',\n",
       " 'spike_times_test_up',\n",
       " 'spike_times_test_dn']"
      ]
     },
     "execution_count": 43,
     "metadata": {},
     "output_type": "execute_result"
    }
   ],
   "source": [
    "data.files"
   ]
  },
  {
   "cell_type": "code",
   "execution_count": 37,
   "metadata": {},
   "outputs": [],
   "source": [
    "X_EMG_Train = data['X_EMG_Train']\n",
    "X_EMG_Test = data['X_EMG_Test']\n",
    "Y_EMG_Train = data['Y_EMG_Train']\n",
    "Y_EMG_Test = data['Y_EMG_Test']\n",
    "spike_times_train_up = data['spike_times_train_up']\n",
    "spike_times_train_dn = data['spike_times_train_dn']\n",
    "spike_times_test_up = data['spike_times_test_up']\n",
    "spike_times_test_dn = data['spike_times_test_dn']"
   ]
  },
  {
   "cell_type": "code",
   "execution_count": 44,
   "metadata": {},
   "outputs": [],
   "source": [
    "n_exc = 256\n",
    "n_inh = 64\n",
    "n_stim = 8\n",
    "\n",
    "\n",
    "cell_parameters = {\n",
    "    'tau_m' : 20.0,# ms\n",
    "    'tau_syn_E': 2.0, # ms\n",
    "    'tau_syn_I': 5.0,# ms\n",
    "    'v_rest': -65.0,  # mV\n",
    "    'v_reset'  : -70.0,  # mV\n",
    "    'v_thresh':  -50.0,# mV\n",
    "    'cm':     1.0,    #nF\n",
    "    'tau_refrac': 2.0,  # ms \n",
    "    'e_rev_E':   0.0,\n",
    "    'e_rev_I': -70.0,\n",
    "}\n",
    "# cell_parameters = {'tau_refrac': 2.0,  # ms\n",
    "#                'v_rest': -65.0,  # mV\n",
    "#                 'v_reset'  : -70.0,  # mV\n",
    "#                'v_thresh':  -50.0, # mV\n",
    "#                'tau_syn_E':  2.0,  # ms\n",
    "#                'tau_syn_I':  2.0,  # ms\n",
    "#                'tau_m': 20\n",
    "# }\n",
    "\n",
    "synaptic_parameters = {\n",
    "    'excitatory_stdp': {\n",
    "        'timing_dependence': {'tau_plus': 20.0, 'tau_minus': 20.0,\n",
    "                              'A_plus': 0.01, 'A_minus': 0.01},\n",
    "        'weight_dependence': {'w_min': 0, 'w_max': 0.5},\n",
    "        'weight': 0.1,\n",
    "        'delay': 0.1},\n",
    "    'excitatory_simple': {'weight': RandomDistribution('uniform', low=0.125, high=0.25, rng=rng),'delay': '0.1+0.001*d'},\n",
    "    'inhibitory': {'weight': RandomDistribution('uniform', low= -0.25, high= -0.125, rng=rng), 'delay': '0.1+0.001*d'},\n",
    "    'input': {'weight': 0.1, 'delay': 1},\n",
    "}"
   ]
  },
  {
   "cell_type": "code",
   "execution_count": 45,
   "metadata": {},
   "outputs": [],
   "source": [
    "connectivity_parameters = {\n",
    "    'gaussian': {'d_expression': 'exp(-d**2/1e4)'},\n",
    "    'global': {'p_connect': 0.1},\n",
    "    'input_exc': {'n': 3},\n",
    "    'input_inh': {'n': 2},\n",
    "    'small_world' :{'degree': 10, 'n_connections': 20, 'rewiring':0.1, 'allow_self_connections':False },\n",
    "}\n"
   ]
  },
  {
   "cell_type": "code",
   "execution_count": 46,
   "metadata": {},
   "outputs": [],
   "source": [
    "grid_parameters = {\n",
    "    'aspect_ratio': 1, 'dx': 50.0, 'dy': 50.0, 'fill_order': 'random'\n",
    "}"
   ]
  },
  {
   "cell_type": "code",
   "execution_count": 47,
   "metadata": {},
   "outputs": [],
   "source": [
    "class WeightRecorder(object):\n",
    "    \"\"\"\n",
    "    Recording of weights is not yet built in to PyNN, so therefore we need\n",
    "    to construct a callback object, which reads the current weights from\n",
    "    the projection at regular intervals.\n",
    "    \"\"\"\n",
    "\n",
    "    def __init__(self, sampling_interval, projection):\n",
    "        self.interval = sampling_interval\n",
    "        self.projection = projection\n",
    "        self._weights = []\n",
    "\n",
    "    def __call__(self, t):\n",
    "        self._weights.append(self.projection.get('weight', format='list', with_address=False))\n",
    "        return t + self.interval\n",
    "\n",
    "    def get_weights(self):\n",
    "        signal = neo.AnalogSignal(self._weights, units='nA', sampling_period=self.interval * ms,\n",
    "                                  name=\"weight\")\n",
    "        signal.channel_index = neo.ChannelIndex(np.arange(len(self._weights[0])))\n",
    "        return signal"
   ]
  },
  {
   "cell_type": "markdown",
   "metadata": {},
   "source": [
    "Initiate the network"
   ]
  },
  {
   "cell_type": "code",
   "execution_count": 48,
   "metadata": {},
   "outputs": [],
   "source": [
    "nb_samples = len(Y_EMG_Train)\n",
    "nb_neurons = n_exc + n_inh\n",
    "output_spike_count_matrix = np.zeros((nb_samples, nb_neurons))"
   ]
  },
  {
   "cell_type": "code",
   "execution_count": 49,
   "metadata": {},
   "outputs": [
    {
     "name": "stdout",
     "output_type": "stream",
     "text": [
      "0\n",
      "Unable to find config file in any of the following locations: \n",
      "['/Library/Application Support/.spynnaker.cfg', '/Users/Anonymous/Library/Application Support/.spynnaker.cfg', '/Users/Anonymous/.spynnaker.cfg', './spynnaker.cfg']\n",
      "********************************************************\n",
      "/Users/Anonymous/.spynnaker.cfg has been created. \n",
      "Please edit this file and change \"None\" after \"machineName\" to the hostname or IP address of your SpiNNaker board, and change \"None\" after \"version\" to the version of SpiNNaker hardware you are running on:\n",
      "[Machine]\n",
      "machineName = None\n",
      "version = None\n",
      "***********************************************************\n",
      "\n"
     ]
    },
    {
     "ename": "NoConfigFoundException",
     "evalue": "Unable to find config file in any of the following locations: \n['/Library/Application Support/.spynnaker.cfg', '/Users/Anonymous/Library/Application Support/.spynnaker.cfg', '/Users/Anonymous/.spynnaker.cfg', './spynnaker.cfg']\n********************************************************\n/Users/Anonymous/.spynnaker.cfg has been created. \nPlease edit this file and change \"None\" after \"machineName\" to the hostname or IP address of your SpiNNaker board, and change \"None\" after \"version\" to the version of SpiNNaker hardware you are running on:\n[Machine]\nmachineName = None\nversion = None\n***********************************************************\n",
     "output_type": "error",
     "traceback": [
      "\u001b[0;31m---------------------------------------------------------------------------\u001b[0m",
      "\u001b[0;31mNoConfigFoundException\u001b[0m                    Traceback (most recent call last)",
      "\u001b[0;32m<ipython-input-49-41a75e70e1f1>\u001b[0m in \u001b[0;36m<module>\u001b[0;34m\u001b[0m\n\u001b[1;32m      4\u001b[0m     \u001b[0minput_inh\u001b[0m \u001b[0;34m=\u001b[0m \u001b[0mspike_times_train_dn\u001b[0m\u001b[0;34m[\u001b[0m\u001b[0;36m1\u001b[0m\u001b[0;34m]\u001b[0m\u001b[0;34m\u001b[0m\u001b[0;34m\u001b[0m\u001b[0m\n\u001b[1;32m      5\u001b[0m \u001b[0;34m\u001b[0m\u001b[0m\n\u001b[0;32m----> 6\u001b[0;31m     \u001b[0msim\u001b[0m\u001b[0;34m.\u001b[0m\u001b[0msetup\u001b[0m\u001b[0;34m(\u001b[0m\u001b[0mtimestep\u001b[0m\u001b[0;34m=\u001b[0m\u001b[0;36m1\u001b[0m\u001b[0;34m)\u001b[0m\u001b[0;34m\u001b[0m\u001b[0;34m\u001b[0m\u001b[0m\n\u001b[0m\u001b[1;32m      7\u001b[0m \u001b[0;34m\u001b[0m\u001b[0m\n\u001b[1;32m      8\u001b[0m     \u001b[0;31m# all_cells = sim.Population(n_exc + n_inh, sim.IF_cond_exp(**cell_parameters),\u001b[0m\u001b[0;34m\u001b[0m\u001b[0;34m\u001b[0m\u001b[0;34m\u001b[0m\u001b[0m\n",
      "\u001b[0;32m/usr/local/lib/python3.8/site-packages/spynnaker8/__init__.py\u001b[0m in \u001b[0;36msetup\u001b[0;34m(timestep, min_delay, max_delay, graph_label, database_socket_addresses, extra_algorithm_xml_paths, extra_mapping_inputs, extra_mapping_algorithms, extra_pre_run_algorithms, extra_post_run_algorithms, extra_load_algorithms, time_scale_factor, n_chips_required, n_boards_required, **extra_params)\u001b[0m\n\u001b[1;32m    345\u001b[0m \u001b[0;34m\u001b[0m\u001b[0m\n\u001b[1;32m    346\u001b[0m     \u001b[0;31m# create the main object for all stuff related software\u001b[0m\u001b[0;34m\u001b[0m\u001b[0;34m\u001b[0m\u001b[0;34m\u001b[0m\u001b[0m\n\u001b[0;32m--> 347\u001b[0;31m     SpiNNaker(\n\u001b[0m\u001b[1;32m    348\u001b[0m         \u001b[0mdatabase_socket_addresses\u001b[0m\u001b[0;34m=\u001b[0m\u001b[0mdatabase_socket_addresses\u001b[0m\u001b[0;34m,\u001b[0m\u001b[0;34m\u001b[0m\u001b[0;34m\u001b[0m\u001b[0m\n\u001b[1;32m    349\u001b[0m         \u001b[0mextra_algorithm_xml_paths\u001b[0m\u001b[0;34m=\u001b[0m\u001b[0mextra_algorithm_xml_paths\u001b[0m\u001b[0;34m,\u001b[0m\u001b[0;34m\u001b[0m\u001b[0;34m\u001b[0m\u001b[0m\n",
      "\u001b[0;32m/usr/local/lib/python3.8/site-packages/spynnaker8/spinnaker.py\u001b[0m in \u001b[0;36m__init__\u001b[0;34m(self, database_socket_addresses, extra_algorithm_xml_paths, extra_mapping_inputs, extra_mapping_algorithms, extra_pre_run_algorithms, extra_post_run_algorithms, extra_load_algorithms, time_scale_factor, min_delay, max_delay, graph_label, n_chips_required, n_boards_required, timestep, hostname)\u001b[0m\n\u001b[1;32m     98\u001b[0m \u001b[0;34m\u001b[0m\u001b[0m\n\u001b[1;32m     99\u001b[0m         \u001b[0;31m# SpiNNaker setup\u001b[0m\u001b[0;34m\u001b[0m\u001b[0;34m\u001b[0m\u001b[0;34m\u001b[0m\u001b[0m\n\u001b[0;32m--> 100\u001b[0;31m         super(SpiNNaker, self).__init__(\n\u001b[0m\u001b[1;32m    101\u001b[0m             \u001b[0mdatabase_socket_addresses\u001b[0m\u001b[0;34m=\u001b[0m\u001b[0mdatabase_socket_addresses\u001b[0m\u001b[0;34m,\u001b[0m\u001b[0;34m\u001b[0m\u001b[0;34m\u001b[0m\u001b[0m\n\u001b[1;32m    102\u001b[0m             \u001b[0muser_extra_algorithm_xml_path\u001b[0m\u001b[0;34m=\u001b[0m\u001b[0mbuilt_in_extra_xml_paths\u001b[0m\u001b[0;34m,\u001b[0m\u001b[0;34m\u001b[0m\u001b[0;34m\u001b[0m\u001b[0m\n",
      "\u001b[0;32m/usr/local/lib/python3.8/site-packages/spynnaker/pyNN/abstract_spinnaker_common.py\u001b[0m in \u001b[0;36m__init__\u001b[0;34m(self, graph_label, database_socket_addresses, n_chips_required, n_boards_required, timestep, max_delay, min_delay, hostname, user_extra_algorithm_xml_path, user_extra_mapping_inputs, user_extra_algorithms_pre_run, time_scale_factor, extra_post_run_algorithms, extra_mapping_algorithms, extra_load_algorithms, front_end_versions)\u001b[0m\n\u001b[1;32m    102\u001b[0m             \u001b[0mversions\u001b[0m\u001b[0;34m.\u001b[0m\u001b[0mextend\u001b[0m\u001b[0;34m(\u001b[0m\u001b[0mfront_end_versions\u001b[0m\u001b[0;34m)\u001b[0m\u001b[0;34m\u001b[0m\u001b[0;34m\u001b[0m\u001b[0m\n\u001b[1;32m    103\u001b[0m \u001b[0;34m\u001b[0m\u001b[0m\n\u001b[0;32m--> 104\u001b[0;31m         super(AbstractSpiNNakerCommon, self).__init__(\n\u001b[0m\u001b[1;32m    105\u001b[0m             \u001b[0mconfigfile\u001b[0m\u001b[0;34m=\u001b[0m\u001b[0mself\u001b[0m\u001b[0;34m.\u001b[0m\u001b[0mCONFIG_FILE_NAME\u001b[0m\u001b[0;34m,\u001b[0m\u001b[0;34m\u001b[0m\u001b[0;34m\u001b[0m\u001b[0m\n\u001b[1;32m    106\u001b[0m             \u001b[0mexecutable_finder\u001b[0m\u001b[0;34m=\u001b[0m\u001b[0mself\u001b[0m\u001b[0;34m.\u001b[0m\u001b[0m__EXECUTABLE_FINDER\u001b[0m\u001b[0;34m,\u001b[0m\u001b[0;34m\u001b[0m\u001b[0;34m\u001b[0m\u001b[0m\n",
      "\u001b[0;32m/usr/local/lib/python3.8/site-packages/spinn_front_end_common/interface/abstract_spinnaker_base.py\u001b[0m in \u001b[0;36m__init__\u001b[0;34m(self, configfile, executable_finder, graph_label, database_socket_addresses, extra_algorithm_xml_paths, n_chips_required, n_boards_required, default_config_paths, validation_cfg, front_end_versions)\u001b[0m\n\u001b[1;32m    372\u001b[0m         \"\"\"\n\u001b[1;32m    373\u001b[0m         \u001b[0;31m# pylint: disable=too-many-arguments\u001b[0m\u001b[0;34m\u001b[0m\u001b[0;34m\u001b[0m\u001b[0;34m\u001b[0m\u001b[0m\n\u001b[0;32m--> 374\u001b[0;31m         ConfigHandler.__init__(\n\u001b[0m\u001b[1;32m    375\u001b[0m             self, configfile, default_config_paths, validation_cfg)\n\u001b[1;32m    376\u001b[0m \u001b[0;34m\u001b[0m\u001b[0m\n",
      "\u001b[0;32m/usr/local/lib/python3.8/site-packages/spinn_front_end_common/interface/config_handler.py\u001b[0m in \u001b[0;36m__init__\u001b[0;34m(self, configfile, default_config_paths, validation_cfg)\u001b[0m\n\u001b[1;32m     87\u001b[0m             os.path.dirname(__file__), CONFIG_FILE))\n\u001b[1;32m     88\u001b[0m \u001b[0;34m\u001b[0m\u001b[0m\n\u001b[0;32m---> 89\u001b[0;31m         self._config = conf_loader.load_config(\n\u001b[0m\u001b[1;32m     90\u001b[0m             \u001b[0mfilename\u001b[0m\u001b[0;34m=\u001b[0m\u001b[0mconfigfile\u001b[0m\u001b[0;34m,\u001b[0m \u001b[0mdefaults\u001b[0m\u001b[0;34m=\u001b[0m\u001b[0mdefault_config_paths\u001b[0m\u001b[0;34m,\u001b[0m\u001b[0;34m\u001b[0m\u001b[0;34m\u001b[0m\u001b[0m\n\u001b[1;32m     91\u001b[0m             validation_cfg=validation_cfg)\n",
      "\u001b[0;32m/usr/local/lib/python3.8/site-packages/spinn_utilities/conf_loader.py\u001b[0m in \u001b[0;36mload_config\u001b[0;34m(filename, defaults, config_parsers, validation_cfg)\u001b[0m\n\u001b[1;32m    328\u001b[0m     \u001b[0mconfig_locations\u001b[0m \u001b[0;34m=\u001b[0m \u001b[0m_config_locations\u001b[0m\u001b[0;34m(\u001b[0m\u001b[0mfilename\u001b[0m\u001b[0;34m)\u001b[0m\u001b[0;34m\u001b[0m\u001b[0;34m\u001b[0m\u001b[0m\n\u001b[1;32m    329\u001b[0m     \u001b[0;32mif\u001b[0m \u001b[0;32mnot\u001b[0m \u001b[0many\u001b[0m\u001b[0;34m(\u001b[0m\u001b[0mos\u001b[0m\u001b[0;34m.\u001b[0m\u001b[0mpath\u001b[0m\u001b[0;34m.\u001b[0m\u001b[0misfile\u001b[0m\u001b[0;34m(\u001b[0m\u001b[0mf\u001b[0m\u001b[0;34m)\u001b[0m \u001b[0;32mfor\u001b[0m \u001b[0mf\u001b[0m \u001b[0;32min\u001b[0m \u001b[0mconfig_locations\u001b[0m\u001b[0;34m)\u001b[0m\u001b[0;34m:\u001b[0m\u001b[0;34m\u001b[0m\u001b[0;34m\u001b[0m\u001b[0m\n\u001b[0;32m--> 330\u001b[0;31m         \u001b[0;32mraise\u001b[0m \u001b[0minstall_cfg_and_IOError\u001b[0m\u001b[0;34m(\u001b[0m\u001b[0mfilename\u001b[0m\u001b[0;34m,\u001b[0m \u001b[0mdefaults\u001b[0m\u001b[0;34m,\u001b[0m \u001b[0mconfig_locations\u001b[0m\u001b[0;34m)\u001b[0m\u001b[0;34m\u001b[0m\u001b[0;34m\u001b[0m\u001b[0m\n\u001b[0m\u001b[1;32m    331\u001b[0m \u001b[0;34m\u001b[0m\u001b[0m\n\u001b[1;32m    332\u001b[0m     \u001b[0mcfg\u001b[0m\u001b[0;34m.\u001b[0m\u001b[0mread\u001b[0m\u001b[0;34m(\u001b[0m\u001b[0mdefaults\u001b[0m\u001b[0;34m)\u001b[0m\u001b[0;34m\u001b[0m\u001b[0;34m\u001b[0m\u001b[0m\n",
      "\u001b[0;31mNoConfigFoundException\u001b[0m: Unable to find config file in any of the following locations: \n['/Library/Application Support/.spynnaker.cfg', '/Users/Anonymous/Library/Application Support/.spynnaker.cfg', '/Users/Anonymous/.spynnaker.cfg', './spynnaker.cfg']\n********************************************************\n/Users/Anonymous/.spynnaker.cfg has been created. \nPlease edit this file and change \"None\" after \"machineName\" to the hostname or IP address of your SpiNNaker board, and change \"None\" after \"version\" to the version of SpiNNaker hardware you are running on:\n[Machine]\nmachineName = None\nversion = None\n***********************************************************\n"
     ]
    }
   ],
   "source": [
    "for i in range(nb_samples) :\n",
    "    print(i)\n",
    "    input_ex = spike_times_train_up[1]\n",
    "    input_inh = spike_times_train_dn[1]\n",
    "   \n",
    "    sim.setup(timestep=1)\n",
    "\n",
    "    # all_cells = sim.Population(n_exc + n_inh, sim.IF_cond_exp(**cell_parameters),\n",
    "    #                            structure=space.Grid2D(**grid_parameters),\n",
    "    #                            label=\"All Cells\")\n",
    "    all_cells = sim.Population(n_exc + n_inh, sim.IF_cond_exp(**cell_parameters),\n",
    "                               label=\"All Cells\")\n",
    "    exc_cells = all_cells[:n_exc]; exc_cells.label = \"Excitatory cells\"\n",
    "    inh_cells = all_cells[n_exc:]; inh_cells.label = \"Inhibitory cells\"\n",
    "\n",
    "    ext_stim_exc = sim.Population(n_stim, sim.SpikeSourceArray(spike_times= input_ex.tolist() ),\n",
    "                              label=\"Input spike time array exitatory\")\n",
    "    ext_stim_inh = sim.Population(n_stim, sim.SpikeSourceArray(spike_times= input_inh.tolist() ),\n",
    "                              label=\"Input spike time array inhibitory\")\n",
    "\n",
    "    \n",
    "    gaussian_connectivity = sim.DistanceDependentProbabilityConnector(\n",
    "                                 **connectivity_parameters['gaussian'])\n",
    "    global_connectivity = sim.FixedProbabilityConnector(\n",
    "                                **connectivity_parameters['global'])\n",
    "    input_connectivity_exc = sim.FixedNumberPostConnector(\n",
    "                                **connectivity_parameters['input_exc'])\n",
    "    input_connectivity_inh = sim.FixedNumberPostConnector(\n",
    "                                **connectivity_parameters['input_inh'])\n",
    "\n",
    "    input_exc_exc_connections = sim.Projection(ext_stim_exc, exc_cells,\n",
    "                                      input_connectivity_exc,\n",
    "                                      receptor_type='excitatory',\n",
    "                                      synapse_type=sim.StaticSynapse(**synaptic_parameters['input']),\n",
    "                                      label='Input connections')\n",
    "    input_inh_inh_connections = sim.Projection(ext_stim_inh, inh_cells,\n",
    "                                      input_connectivity_inh,\n",
    "                                      receptor_type='excitatory',\n",
    "                                      synapse_type=sim.StaticSynapse(**synaptic_parameters['input']),\n",
    "                                      label='Input connections')\n",
    "\n",
    "\n",
    "    exc_exc_connections = sim.Projection(exc_cells, exc_cells,\n",
    "                                     global_connectivity,\n",
    "                                     receptor_type='excitatory',\n",
    "                                     synapse_type=sim.StaticSynapse(**synaptic_parameters['excitatory_simple']),\n",
    "                                     label='Excitatory - Excitatory connections')\n",
    "\n",
    "    exc_inh_connections = sim.Projection(exc_cells, inh_cells,\n",
    "                                     global_connectivity,\n",
    "                                     receptor_type='excitatory',\n",
    "                                     synapse_type=sim.StaticSynapse(**synaptic_parameters['excitatory_simple']),\n",
    "                                     label='Excitatory - Inhibitory connections')\n",
    "\n",
    "    inh_inh_connections = sim.Projection(inh_cells, exc_cells,\n",
    "                                     global_connectivity,\n",
    "                                     receptor_type='excitatory',\n",
    "                                     synapse_type=sim.StaticSynapse(**synaptic_parameters['inhibitory']),\n",
    "                                     label='Inhibitory connections')\n",
    "\n",
    "\n",
    "    # == Instrument the network =================================================\n",
    "#     weight_recorder_exc_exc= WeightRecorder(sampling_interval=0.1, projection=exc_exc_connections )\n",
    "#     weight_recorder_exc_inh= WeightRecorder(sampling_interval=0.1, projection=exc_inh_connections )\n",
    "\n",
    "    ext_stim_exc.record('spikes')\n",
    "    ext_stim_inh.record('spikes')\n",
    "    all_cells.record(['spikes', 'v'])\n",
    "\n",
    "    # === Run the simulation =====================================================\n",
    "    t_stop = 2000\n",
    "    sim.run(2000)\n",
    "    # sim.run(2000, callbacks=[weight_recorder_exc])\n",
    "\n",
    "    #=== Store the simulation output into vatiables\n",
    "\n",
    "    input_exc_data = ext_stim_exc.get_data().segments[0]\n",
    "    input_inh_data = ext_stim_inh.get_data().segments[0]\n",
    "    exc_cells_data = exc_cells.get_data().segments[0]\n",
    "    inh_cells_data = inh_cells.get_data().segments[0]\n",
    "#     weight_data = exc_exc_connections.getWeights()\n",
    "#     weights_exc_exc = weight_recorder_exc_exc.get_weights()\n",
    "\n",
    "    spike_count_vector = np.array(all_cells.get_spike_counts().values())\n",
    "\n",
    "    output_spike_count_matrix[i] = spike_count_vector"
   ]
  },
  {
   "cell_type": "code",
   "execution_count": 1,
   "metadata": {},
   "outputs": [
    {
     "ename": "NameError",
     "evalue": "name 'output_spike_count_matrix' is not defined",
     "output_type": "error",
     "traceback": [
      "\u001b[0;31m---------------------------------------------------------------------------\u001b[0m",
      "\u001b[0;31mNameError\u001b[0m                                 Traceback (most recent call last)",
      "\u001b[0;32m<ipython-input-1-a8547f21df1e>\u001b[0m in \u001b[0;36m<module>\u001b[0;34m()\u001b[0m\n\u001b[0;32m----> 1\u001b[0;31m \u001b[0moutput_spike_count_matrix\u001b[0m\u001b[0;34m\u001b[0m\u001b[0m\n\u001b[0m",
      "\u001b[0;31mNameError\u001b[0m: name 'output_spike_count_matrix' is not defined"
     ]
    }
   ],
   "source": [
    "output_spike_count_matrix"
   ]
  },
  {
   "cell_type": "code",
   "execution_count": null,
   "metadata": {},
   "outputs": [],
   "source": []
  }
 ],
 "metadata": {
  "kernelspec": {
   "display_name": "Python 3",
   "language": "python",
   "name": "python3"
  },
  "language_info": {
   "codemirror_mode": {
    "name": "ipython",
    "version": 3
   },
   "file_extension": ".py",
   "mimetype": "text/x-python",
   "name": "python",
   "nbconvert_exporter": "python",
   "pygments_lexer": "ipython3",
   "version": "3.8.4"
  }
 },
 "nbformat": 4,
 "nbformat_minor": 2
}
